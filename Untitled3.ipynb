{
  "metadata": {
    "kernelspec": {
      "name": "xpython",
      "display_name": "Python 3.13 (XPython)",
      "language": "python"
    },
    "language_info": {
      "file_extension": ".py",
      "mimetype": "text/x-python",
      "name": "python",
      "version": "3.13.1"
    }
  },
  "nbformat_minor": 5,
  "nbformat": 4,
  "cells": [
    {
      "id": "623ede8e-2663-4dae-bf96-d8b973fe25e7",
      "cell_type": "markdown",
      "source": "Lists in python:\n\nA built-in data ype that stores set of values.\n\nit can store elements of different types. (integer, float, string, etc.)\n\nmarks = [87, 43, 67, 98, 65] #marks[0], marks[1]..\n\nstudent = [\"Asad\", 98,\"kotli\"] # student[0], student[1]..\n\nstudent[0] = \"saad\" # allowed in python\n\nlen(student) # returns length \n",
      "metadata": {}
    },
    {
      "id": "03f340b4-e459-4d4e-b504-2b3248a56198",
      "cell_type": "code",
      "source": "marks1 = 94.6\nmarks2 = 87\nmarks3 = 98.3\nmarks4 = 66.9\nmarks5 = 97.2\n\nmarks = [94.6, 87, 98.3, 66.9, 97.2]\nprint(marks)\nprint(type(marks))\n",
      "metadata": {
        "trusted": true
      },
      "outputs": [
        {
          "name": "stdout",
          "output_type": "stream",
          "text": "[94.6, 87, 98.3, 66.9, 97.2]\n<class 'list'>\n"
        }
      ],
      "execution_count": 2
    },
    {
      "id": "9287fdad-32ad-468f-870e-f42fa1fe0460",
      "cell_type": "code",
      "source": "marks = [94.6, 87, 98.3, 66.9, 97.2]\nprint(marks)\nprint(type(marks))\nprint(marks[0])\nprint(marks[1])",
      "metadata": {
        "trusted": true
      },
      "outputs": [
        {
          "name": "stdout",
          "output_type": "stream",
          "text": "[94.6, 87, 98.3, 66.9, 97.2]\n<class 'list'>\n94.6\n87\n"
        }
      ],
      "execution_count": 3
    },
    {
      "id": "cdc7b99e-dd59-4124-b317-2a127babe503",
      "cell_type": "code",
      "source": "student = [\"Asad\", 90, 18, \"kotli\"]\nprint(student[0])\nstudent[0] = \"Saad\"\nprint(student)",
      "metadata": {
        "trusted": true
      },
      "outputs": [
        {
          "name": "stdout",
          "output_type": "stream",
          "text": "Asad\n['Saad', 90, 18, 'kotli']\n"
        }
      ],
      "execution_count": 4
    },
    {
      "id": "2a89d2af-32be-443e-852d-66bc94ecb81d",
      "cell_type": "markdown",
      "source": "List Slicing:\n\nSimilar to string slicing.\n\nlist_name[ starting_idx : ending_idx] # sending idx is not included\n\nmarks = [91,  39,98, 92]\n\nmarks[1:3] is [39, 98, 92]\n\nmarks[:4] is same as marks [0:4]\n\nmarks[1:] is same as marks[1: len(marks)]\n\nmarks[-3:-1] is [91, 98]",
      "metadata": {}
    },
    {
      "id": "309b8266-2b34-44d6-b19e-bf4b0848098e",
      "cell_type": "code",
      "source": "marks = [85, 94, 76, 63, 48]\nprint(marks[1:])",
      "metadata": {
        "trusted": true
      },
      "outputs": [
        {
          "name": "stdout",
          "output_type": "stream",
          "text": "[94, 76, 63, 48]\n"
        }
      ],
      "execution_count": 5
    },
    {
      "id": "cd0a9387-c6c9-4e49-b62b-b7e8bc1bd088",
      "cell_type": "code",
      "source": "marks = [85, 94, 76, 63, 48]\nprint(marks[-3:-1])",
      "metadata": {
        "trusted": true
      },
      "outputs": [
        {
          "name": "stdout",
          "output_type": "stream",
          "text": "[76, 63]\n"
        }
      ],
      "execution_count": 6
    },
    {
      "id": "0dc95d4a-8cc1-4978-bf94-9bd88bf06735",
      "cell_type": "markdown",
      "source": "List Method:\n\nlist= [2, 1, 3]\n\nlist.append(4) # adds one element at the end [ 2, 1, 3, 4]\n\nlist.sort() # sorts in ascending order [ 1, 2, 3]\n\nlist.sort(reverse = True) # sorts in descending order [3, 2, 1]\n\nlist.reverse() #reverse list [3, 2, 1]\n\nlist.insert(idx, le) #insert element at index.\n\nlist.remove(1) #remove first occurrence of element [2, 3, 1]\n\nlist.pop(idx) #remove element at idx\n",
      "metadata": {}
    },
    {
      "id": "0d0cf364-5559-4346-9be2-6985546c9be1",
      "cell_type": "code",
      "source": "list = [2, 1, 3, 5, 4]\nlist.append(6)\nprint(list)",
      "metadata": {
        "trusted": true
      },
      "outputs": [
        {
          "name": "stdout",
          "output_type": "stream",
          "text": "[2, 1, 3, 5, 4, 6]\n"
        }
      ],
      "execution_count": 7
    },
    {
      "id": "b381a82f-6966-40b5-959b-9ceab03c3935",
      "cell_type": "code",
      "source": "list = [2, 1, 3, 5, 4]\nlist.sort()\nprint(list)",
      "metadata": {
        "trusted": true
      },
      "outputs": [
        {
          "name": "stdout",
          "output_type": "stream",
          "text": "[1, 2, 3, 4, 5]\n"
        }
      ],
      "execution_count": 8
    },
    {
      "id": "8aee3d26-6bce-4d73-b726-e3a1c15cec8c",
      "cell_type": "code",
      "source": "list = [2, 1, 3, 5, 4]\nlist.sort(reverse = True)\nprint(list)",
      "metadata": {
        "trusted": true
      },
      "outputs": [
        {
          "name": "stdout",
          "output_type": "stream",
          "text": "[5, 4, 3, 2, 1]\n"
        }
      ],
      "execution_count": 9
    },
    {
      "id": "bd5dbac4-e2f2-4d03-a3be-5d1e65c49937",
      "cell_type": "code",
      "source": "list = [2, 1, 3, 5, 4]\nlist.reverse()\nprint(list)",
      "metadata": {
        "trusted": true
      },
      "outputs": [
        {
          "name": "stdout",
          "output_type": "stream",
          "text": "[4, 5, 3, 1, 2]\n"
        }
      ],
      "execution_count": 10
    },
    {
      "id": "3d0bd257-d0ff-453c-acc6-ff0a2c55f728",
      "cell_type": "code",
      "source": "list = [2, 1, 3, 5, 4]\nlist.insert(1, 6)\nprint(list)",
      "metadata": {
        "trusted": true
      },
      "outputs": [
        {
          "name": "stdout",
          "output_type": "stream",
          "text": "[2, 6, 1, 3, 5, 4]\n"
        }
      ],
      "execution_count": 12
    },
    {
      "id": "994d87bb-e876-4226-a9a7-51a83a20292e",
      "cell_type": "code",
      "source": "list = [2, 1, 3, 5, 4]\nlist.remove(3)\nprint(list)",
      "metadata": {
        "trusted": true
      },
      "outputs": [
        {
          "name": "stdout",
          "output_type": "stream",
          "text": "[2, 1, 5, 4]\n"
        }
      ],
      "execution_count": 13
    },
    {
      "id": "6130d5dd-1ec8-4de3-9aa1-9a9e1d6301e6",
      "cell_type": "code",
      "source": "list = [2, 1, 3, 5, 4]\nlist.pop(3)\nprint(list)",
      "metadata": {
        "trusted": true
      },
      "outputs": [
        {
          "name": "stdout",
          "output_type": "stream",
          "text": "[2, 1, 3, 4]\n"
        }
      ],
      "execution_count": 16
    },
    {
      "id": "65b80b01-6622-490d-9d1a-cc9ad226fd97",
      "cell_type": "markdown",
      "source": "Tuples in Python:\n\nA built_in data type that lets us create immutable sequences of Values.\n\ntup = [87, 83, 63,94] # tup[0] , tup[1]\n\ntup[0]=87 #NOT allowed in python\n\ntup1 = ()\n\ntup2 = (1,)\n\ntup3 = (1,2,3)",
      "metadata": {}
    },
    {
      "id": "18ba0917-98bc-4c01-87ed-4dee77db6dcd",
      "cell_type": "code",
      "source": "tup = [1, 2, 3, 1]\nprint(tup[0])\nprint(tup[1])\n\n",
      "metadata": {
        "trusted": true
      },
      "outputs": [
        {
          "name": "stdout",
          "output_type": "stream",
          "text": "1\n2\n"
        }
      ],
      "execution_count": 19
    },
    {
      "id": "13e08cb1-d13c-4de5-a06d-b1dcf31d974b",
      "cell_type": "markdown",
      "source": "Tuples Method:\n\ntup = (2, 1, 3, 1)\n\ntup.index(el) # returns index of first occurrenc tup.index(1) is 1.\n\ntup.count(el) # counts total occurrences tup.count(1) is 2",
      "metadata": {}
    },
    {
      "id": "0477e78b-1b32-482d-ad7a-8d55d81f6540",
      "cell_type": "code",
      "source": "",
      "metadata": {
        "trusted": true
      },
      "outputs": [],
      "execution_count": null
    }
  ]
}