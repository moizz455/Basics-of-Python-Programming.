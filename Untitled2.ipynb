{
  "metadata": {
    "kernelspec": {
      "name": "xpython",
      "display_name": "Python 3.13 (XPython)",
      "language": "python"
    },
    "language_info": {
      "file_extension": ".py",
      "mimetype": "text/x-python",
      "name": "python",
      "version": "3.13.1"
    }
  },
  "nbformat_minor": 5,
  "nbformat": 4,
  "cells": [
    {
      "id": "7ea495bb-cfef-4cb9-b77b-493383d08674",
      "cell_type": "markdown",
      "source": "Strings:\n\n> Strings is data type that stores a sequence of characters.\n\nBasic Operations :\n\n> Concatenation\n\n   \"hello\" + \"world\" ---- \"helloworld\"\n\n> Length of str\n\n  len(str)",
      "metadata": {}
    },
    {
      "id": "78bd9709-c132-44bd-a167-cd116cf74b86",
      "cell_type": "code",
      "source": "str1 = \"this is string\"\nstr2 = 'moiz butt.'\nstr3= \"\"\"this is string.\"\"\"\nprint(str1,str2,str3)",
      "metadata": {
        "trusted": true
      },
      "outputs": [],
      "execution_count": null
    },
    {
      "id": "facf4b0a-3b44-487e-9ec9-4f539b4b1bab",
      "cell_type": "code",
      "source": "str1 = \"this is string  \\n of python.\"\nprint(str1)",
      "metadata": {
        "trusted": true
      },
      "outputs": [],
      "execution_count": null
    },
    {
      "id": "d37dd0c1-462c-46cb-b605-d1c60e708bde",
      "cell_type": "code",
      "source": "str1 = \"this is string\"\nstr2 = 'of python'\nprint(str1+str2)",
      "metadata": {
        "trusted": true
      },
      "outputs": [],
      "execution_count": null
    },
    {
      "id": "6b2dd4f4-69eb-4050-86a0-4e12af9c0906",
      "cell_type": "code",
      "source": "str1 = \"moiz\"\nLen1 = len(str1)\nprint(Len1)\n\nstr2 = 'butt'\nLen2 = len(str2)\nprint(Len2)\n\nfinal_str = str1+str2\nprint(final_str)",
      "metadata": {
        "trusted": true
      },
      "outputs": [],
      "execution_count": null
    },
    {
      "id": "1a7fbbfe-9e1d-4ada-81a2-ce58d30bf397",
      "cell_type": "markdown",
      "source": ". Indexing :\n\n0 1 2 3 4 5 6 7 8 9 10 11\n\nstr=\" python programming\"\n\nstr[0] is 'P', str[1] is 'Y'\n\nstr[0] = 'B' # not allowed\n",
      "metadata": {}
    },
    {
      "id": "577964b8-2d81-42e8-a85a-e05e2d0b867c",
      "cell_type": "code",
      "source": "str = \"python programming\"\nch = str[0], str[1], str[2], str[3], str[4],str [5]\nprint(ch)",
      "metadata": {
        "trusted": true
      },
      "outputs": [],
      "execution_count": null
    },
    {
      "id": "44037bef-ffc4-4aa3-bce9-c44fbf071dcf",
      "cell_type": "markdown",
      "source": "Slicing:\n> Accessing parts of a string.\n\n str[ starting_idx : ending_idx]. # ending idx is not function.\n\n> str = \"python programming\"\n\n>str[1:4] is \"ytho\"\n\n>str[ :4] is same as str[0:4]\n\n> str[1:] is same as str[1: len(str)]",
      "metadata": {}
    },
    {
      "id": "3940a719-3541-40bc-989a-b8ea2ddcd71a",
      "cell_type": "code",
      "source": "str = \"python programming\"\nprint(str[0:6])",
      "metadata": {
        "trusted": true
      },
      "outputs": [],
      "execution_count": null
    },
    {
      "id": "25f35525-f0fe-4817-9d57-c78d1ee58ea8",
      "cell_type": "code",
      "source": "str = \"python programming\"\nprint(str[:6])\nprint(str[7:])",
      "metadata": {
        "trusted": true
      },
      "outputs": [],
      "execution_count": null
    },
    {
      "id": "18c832dd-f614-4639-8083-61601b893857",
      "cell_type": "markdown",
      "source": "> Slicing :\n\nNegative index.\n\nA   P   P   L   E\n\n-5  -4  -3  -2   -1\n\nstr = \"Apple\"\nstr[-3:-1] is \"pl\"",
      "metadata": {}
    },
    {
      "id": "b2ce84ec-fb33-4632-9be4-083a00870f20",
      "cell_type": "code",
      "source": "str = \"Apple\"\nprint(str[-4:-1])",
      "metadata": {
        "trusted": true
      },
      "outputs": [],
      "execution_count": null
    },
    {
      "id": "4acf6927-41e7-4036-b2a5-dacc30169ebf",
      "cell_type": "markdown",
      "source": "String Function :\n\nstr = \" i am a coder.\"\n\nstr.endswith(\"er.\") # return true if string ends with substr\n\nstr.capitalizer() # capitalizes 1st char\n\nstr.replacet(old,new) # replaces all occurrences of old with new\n\nstr.find(word) # return 1st index of 1st occurrence\n\nstr.count(\"am\") # counts the occurrence of substr i n string",
      "metadata": {}
    },
    {
      "id": "7ce6022a-27ba-4aa3-b342-b7d02df4582d",
      "cell_type": "code",
      "source": "str = \" I am a coder\"\nstr= (str.capitalize())\nprint(str)",
      "metadata": {
        "trusted": true
      },
      "outputs": [
        {
          "name": "stdout",
          "output_type": "stream",
          "text": " i am a coder\n"
        }
      ],
      "execution_count": 4
    },
    {
      "id": "9dc1ae0a-4737-44f0-9114-af3686ecdabe",
      "cell_type": "code",
      "source": "str = \" I am a coder\"\nprint(str.replace(\"a\",\"o\"))\n\nstr = \" I am a coder\"\nprint(str.replace(\"coder\",\"programmer\"))\n                  ",
      "metadata": {
        "trusted": true
      },
      "outputs": [
        {
          "name": "stdout",
          "output_type": "stream",
          "text": " I om o coder\n I am a programmer\n"
        }
      ],
      "execution_count": 2
    },
    {
      "id": "4276ebbe-1958-4be9-a33c-aefa4250cc2f",
      "cell_type": "code",
      "source": "str = \" I am a coder\"\nprint(str.find(\"a\"))",
      "metadata": {
        "trusted": true
      },
      "outputs": [
        {
          "name": "stdout",
          "output_type": "stream",
          "text": "3\n"
        }
      ],
      "execution_count": 5
    },
    {
      "id": "030ad77c-781a-4677-9a75-cb515776c5a3",
      "cell_type": "code",
      "source": "name = input(\" ENter your name:\")\nprint(\"length of your name is\", len(name))",
      "metadata": {
        "trusted": true
      },
      "outputs": [
        {
          "output_type": "stream",
          "name": "stdin",
          "text": " ENter your name: moiz\n"
        },
        {
          "name": "stdout",
          "output_type": "stream",
          "text": "length of your name is 4\n"
        }
      ],
      "execution_count": 6
    },
    {
      "id": "7f7c43b3-5e99-473b-aebb-d624f2c95213",
      "cell_type": "code",
      "source": "str= \" i am the $ symbol $553.2\"\nprint(str.count(\"$\"))",
      "metadata": {
        "trusted": true
      },
      "outputs": [
        {
          "name": "stdout",
          "output_type": "stream",
          "text": "2\n"
        }
      ],
      "execution_count": 7
    },
    {
      "id": "b490253c-6ad9-4275-8cc5-1de4a96e7dbb",
      "cell_type": "markdown",
      "source": "Conditional Statements :\n\nif \n\nelif\n\nelse\n\nif( Condition):\n\n statement1\n\nelif(Condition):\n\n statement2\n\nelse\n\n statementN\n\n",
      "metadata": {}
    },
    {
      "id": "b189e48e-c1bb-4d56-9820-343a097a2073",
      "cell_type": "code",
      "source": "age = 21\n\nif(age>= 18):\n    print(\"can vote and Apply for License\")",
      "metadata": {
        "trusted": true
      },
      "outputs": [
        {
          "name": "stdout",
          "output_type": "stream",
          "text": "can vote and Apply for License\n"
        }
      ],
      "execution_count": 8
    },
    {
      "id": "60d384d3-89a1-4fcc-9d14-47140f7e74c2",
      "cell_type": "code",
      "source": "light = \" green\"\n\nif(light == \"REd\"):\n    print('stop')\n\nelif(light == ' green'):\n    print('go')\n\nelif(light == ' yellow'):\n    print(\"looK\")\n    ",
      "metadata": {
        "trusted": true
      },
      "outputs": [
        {
          "name": "stdout",
          "output_type": "stream",
          "text": "go\n"
        }
      ],
      "execution_count": 1
    },
    {
      "id": "93addfcd-d6ca-441a-99ca-e8557b3a8968",
      "cell_type": "code",
      "source": "light = \" pink\"\n\nif(light == \"REd\"):\n    print('stop')\n\nelif(light == ' green'):\n    print('go')\n\nelif(light == ' yellow'):\n    print(\"looK\")\n\nelse:\n    print(\"light is not working\")\n    ",
      "metadata": {
        "trusted": true
      },
      "outputs": [
        {
          "name": "stdout",
          "output_type": "stream",
          "text": "light is not working\n"
        }
      ],
      "execution_count": 2
    },
    {
      "id": "6c329491-5c57-4e96-8872-2195d99fb642",
      "cell_type": "code",
      "source": "# conditional statments:\n\nmarks = input(\" Enter student marks:\")\n\nif(marks >= 90):\n    grade = 'A'\n\nelif(marks >= 80 and marks < 90):\n    grade = 'B'\n\nelif(marks >= 70 and marks < 80):\n    grade = 'C'\n\nelse:\n    grade = 'D'\n\nprint(\"grade of the student ->\",grade)",
      "metadata": {
        "trusted": true
      },
      "outputs": [
        {
          "output_type": "stream",
          "name": "stdin",
          "text": " Enter student marks: 91\n"
        },
        {
          "ename": "<class 'TypeError'>",
          "evalue": "'>=' not supported between instances of 'str' and 'int'",
          "traceback": [
            "\u001b[31m---------------------------------------------------------------------------\u001b[39m",
            "\u001b[31mTypeError\u001b[39m                                 Traceback (most recent call last)",
            "\u001b[36mCell\u001b[39m\u001b[36m \u001b[39m\u001b[32mIn[7]\u001b[39m\u001b[32m, line 5\u001b[39m\n\u001b[32m      1\u001b[39m \u001b[38;5;66;03m# conditional statments:\u001b[39;00m\n\u001b[32m      3\u001b[39m marks = \u001b[38;5;28minput\u001b[39m(\u001b[33m\"\u001b[39m\u001b[33m Enter student marks:\u001b[39m\u001b[33m\"\u001b[39m)\n\u001b[32m----> \u001b[39m\u001b[32m5\u001b[39m \u001b[38;5;28;01mif\u001b[39;00m(\u001b[43mmarks\u001b[49m\u001b[43m \u001b[49m\u001b[43m>\u001b[49m\u001b[43m=\u001b[49m\u001b[43m \u001b[49m\u001b[32;43m90\u001b[39;49m):\n\u001b[32m      6\u001b[39m     grade = \u001b[33m'\u001b[39m\u001b[33mA\u001b[39m\u001b[33m'\u001b[39m\n\u001b[32m      8\u001b[39m \u001b[38;5;28;01melif\u001b[39;00m(marks >= \u001b[32m80\u001b[39m \u001b[38;5;129;01mand\u001b[39;00m marks < \u001b[32m90\u001b[39m):\n",
            "\u001b[31mTypeError\u001b[39m: '>=' not supported between instances of 'str' and 'int'"
          ],
          "output_type": "error"
        }
      ],
      "execution_count": 7
    },
    {
      "id": "e4038a9a-5f46-45cb-a962-a4b077e45671",
      "cell_type": "code",
      "source": "",
      "metadata": {
        "trusted": true
      },
      "outputs": [],
      "execution_count": null
    }
  ]
}