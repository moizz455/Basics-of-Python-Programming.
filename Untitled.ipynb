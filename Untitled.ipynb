{
 "cells": [
  {
   "cell_type": "code",
   "execution_count": 1,
   "id": "b94b1617-db12-44b8-8b97-00edc4f000af",
   "metadata": {},
   "outputs": [
    {
     "name": "stdout",
     "output_type": "stream",
     "text": [
      "helloworld\n"
     ]
    }
   ],
   "source": [
    "print('helloworld')"
   ]
  },
  {
   "cell_type": "code",
   "execution_count": 2,
   "id": "4ae630c1-a03e-4b1b-a303-debddc8e83e2",
   "metadata": {},
   "outputs": [
    {
     "name": "stdout",
     "output_type": "stream",
     "text": [
      "Name: Moizbutt\n"
     ]
    }
   ],
   "source": [
    "print('Name:', 'Moizbutt')"
   ]
  },
  {
   "cell_type": "code",
   "execution_count": 4,
   "id": "3002aa3f-5f00-4d89-9772-bf7ac8424e7b",
   "metadata": {},
   "outputs": [
    {
     "name": "stdin",
     "output_type": "stream",
     "text": [
      "Enter your password:  12367\n"
     ]
    },
    {
     "name": "stdout",
     "output_type": "stream",
     "text": [
      " Wrong password, try again.\n",
      "\n"
     ]
    },
    {
     "name": "stdin",
     "output_type": "stream",
     "text": [
      "Enter your password:  12345\n"
     ]
    },
    {
     "name": "stdout",
     "output_type": "stream",
     "text": [
      "Access Granted! Welcome.\n"
     ]
    }
   ],
   "source": [
    "\n",
    "set_password = \"12345\" \n",
    "while True:\n",
    "    entered_password = input(\"Enter your password: \")\n",
    "    if entered_password == set_password:\n",
    "        print(\"Access Granted! Welcome.\")\n",
    "        break   \n",
    "    else:\n",
    "        print(\" Wrong password, try again.\\n\")"
   ]
  },
  {
   "cell_type": "code",
   "execution_count": null,
   "id": "26f10c37-5f0f-4dce-858e-f75d61800c2c",
   "metadata": {},
   "outputs": [],
   "source": []
  }
 ],
 "metadata": {
  "kernelspec": {
   "display_name": "Python 3 (ipykernel)",
   "language": "python",
   "name": "python3"
  },
  "language_info": {
   "codemirror_mode": {
    "name": "ipython",
    "version": 3
   },
   "file_extension": ".py",
   "mimetype": "text/x-python",
   "name": "python",
   "nbconvert_exporter": "python",
   "pygments_lexer": "ipython3",
   "version": "3.12.11"
  }
 },
 "nbformat": 4,
 "nbformat_minor": 5
}
