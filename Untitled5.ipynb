{
  "metadata": {
    "kernelspec": {
      "name": "xpython",
      "display_name": "Python 3.13 (XPython)",
      "language": "python"
    },
    "language_info": {
      "file_extension": ".py",
      "mimetype": "text/x-python",
      "name": "python",
      "version": "3.13.1"
    }
  },
  "nbformat_minor": 5,
  "nbformat": 4,
  "cells": [
    {
      "id": "07bba77d-2893-4743-bc4b-084e75792df0",
      "cell_type": "markdown",
      "source": "# Loops in python:\n\nLoops are used to repeat instruction.\n\nwhile Loops\n\nwhile condition :\n\n #somework\n\n For Loop \n\n for el in list:\n \n #some work\n\n for loop with else:\n\n #some work\n\n else:",
      "metadata": {}
    },
    {
      "id": "53762f8d-e5b4-4b67-bdb8-867e6c01f436",
      "cell_type": "code",
      "source": "count=1\nwhile count<=5:\n    print(\"Hello World\")\n    count +=1",
      "metadata": {
        "trusted": true
      },
      "outputs": [
        {
          "name": "stdout",
          "output_type": "stream",
          "text": "Hello World\nHello World\nHello World\nHello World\nHello World\n"
        }
      ],
      "execution_count": 1
    },
    {
      "id": "31a852f2-db62-4373-a3e7-7e4b1a105797",
      "cell_type": "code",
      "source": "i=1\nwhile i<= 5:\n    print(i)\n    i +=1\n\nprint(\"Loop Ended\")",
      "metadata": {
        "trusted": true
      },
      "outputs": [
        {
          "name": "stdout",
          "output_type": "stream",
          "text": "1\n2\n3\n4\n5\nLoop Ended\n"
        }
      ],
      "execution_count": 2
    },
    {
      "id": "f3f19f71-ca31-4efc-a263-372e63aae036",
      "cell_type": "code",
      "source": "n = int(input(\"Enter Number :\"))\ni = 1\nwhile i <= 10:\n    print(n*i)\n    i +=1\n    ",
      "metadata": {
        "trusted": true
      },
      "outputs": [
        {
          "output_type": "stream",
          "name": "stdin",
          "text": "Enter Number : 7\n"
        },
        {
          "name": "stdout",
          "output_type": "stream",
          "text": "7\n14\n21\n28\n35\n42\n49\n56\n63\n70\n"
        }
      ],
      "execution_count": 7
    },
    {
      "id": "4682e66a-820c-4071-b18c-d338eb51be75",
      "cell_type": "markdown",
      "source": "# Break & Continue  :\n\nBreak: Used to terminate the loop when encountered.\n\nContinue : terminates execution in the current iteration & continues exection of the loop with the next iteration.",
      "metadata": {}
    },
    {
      "id": "1c0bf301-a932-4f3c-a533-19036bfb6093",
      "cell_type": "code",
      "source": "i = 1\nwhile i <= 5:\n    print(i)\n    if(i==3):\n        break\n    i += 1\nprint(\"Loop End\")",
      "metadata": {
        "trusted": true
      },
      "outputs": [
        {
          "name": "stdout",
          "output_type": "stream",
          "text": "1\n2\n3\nLoop End\n"
        }
      ],
      "execution_count": 8
    },
    {
      "id": "ff6231d8-0bab-4575-b7fe-d15646863c48",
      "cell_type": "code",
      "source": "i = 0\nwhile i<= 5:\n    if(i == 3):\n        i +=1\n        continue\n    print(i)\n    i += 1\n",
      "metadata": {
        "trusted": true
      },
      "outputs": [
        {
          "name": "stdout",
          "output_type": "stream",
          "text": "0\n1\n2\n4\n5\n"
        }
      ],
      "execution_count": 10
    },
    {
      "id": "3c2e63ed-7b4f-4c5a-af98-cf0a8112fcad",
      "cell_type": "code",
      "source": "nums  = [1, 2, 3, 4, 5]\n\nfor val in nums:\n    print(val)",
      "metadata": {
        "trusted": true
      },
      "outputs": [
        {
          "name": "stdout",
          "output_type": "stream",
          "text": "1\n2\n3\n4\n5\n"
        }
      ],
      "execution_count": 11
    },
    {
      "id": "5c58209c-9ce9-4f3b-b427-9c658e922345",
      "cell_type": "code",
      "source": "str = \"Python program\"\n\nfor char in str:\n    print(char)\nelse:\n    print(\"End\")",
      "metadata": {
        "trusted": true
      },
      "outputs": [
        {
          "name": "stdout",
          "output_type": "stream",
          "text": "P\ny\nt\nh\no\nn\n \np\nr\no\ng\nr\na\nm\nEnd\n"
        }
      ],
      "execution_count": 12
    },
    {
      "id": "d408df61-5f2b-4ab4-9666-9c82d3abea30",
      "cell_type": "markdown",
      "source": "# Range() :\n\nRange functions returns a sequence of numbers , starting from 0 by default, and increments by 1 ( by  default), and stops before a specified numbers.\n\nrange(start?, stop, step?)",
      "metadata": {}
    },
    {
      "id": "fa6a1a95-fb7a-4bb2-890d-0a0b285df128",
      "cell_type": "code",
      "source": "seq = range(5)\nprint(seq[0])\nprint(seq[1])\nprint(seq[2])\nprint(seq[3])",
      "metadata": {
        "trusted": true
      },
      "outputs": [
        {
          "name": "stdout",
          "output_type": "stream",
          "text": "0\n1\n2\n3\n"
        }
      ],
      "execution_count": 13
    },
    {
      "id": "f1caa300-0881-4283-8585-962e097aedaf",
      "cell_type": "code",
      "source": "seq = range(5)\n\nfor i in seq :\n    print(i)",
      "metadata": {
        "trusted": true
      },
      "outputs": [
        {
          "name": "stdout",
          "output_type": "stream",
          "text": "0\n1\n2\n3\n4\n"
        }
      ],
      "execution_count": 14
    },
    {
      "id": "145e6c05-8523-4fdf-a7cb-c10f92896a1b",
      "cell_type": "code",
      "source": "for i in range(2, 50,2):\n    print(i)",
      "metadata": {
        "trusted": true
      },
      "outputs": [
        {
          "name": "stdout",
          "output_type": "stream",
          "text": "2\n4\n6\n8\n10\n12\n14\n16\n18\n20\n22\n24\n26\n28\n30\n32\n34\n36\n38\n40\n42\n44\n46\n48\n"
        }
      ],
      "execution_count": 16
    },
    {
      "id": "3024fc97-f051-4ecf-acfe-14671a629afe",
      "cell_type": "markdown",
      "source": "# Pass Statement:\n\npass is a null statement that does nothing. it  is used as a placeholder for future code.\n\nfoe el in range (10):\n\npass",
      "metadata": {}
    },
    {
      "id": "6eec23d5-e8d0-45fe-bbe9-ed85abd96e46",
      "cell_type": "code",
      "source": "for i in range(5):\n    pass\n\nprint(\"Some Work\")",
      "metadata": {
        "trusted": true
      },
      "outputs": [
        {
          "name": "stdout",
          "output_type": "stream",
          "text": "Some Work\n"
        }
      ],
      "execution_count": 17
    },
    {
      "id": "204ea1cc-fbf8-449f-a972-84a5f33b56e4",
      "cell_type": "code",
      "source": "",
      "metadata": {
        "trusted": true
      },
      "outputs": [],
      "execution_count": null
    }
  ]
}