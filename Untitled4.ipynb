{
  "metadata": {
    "kernelspec": {
      "name": "xpython",
      "display_name": "Python 3.13 (XPython)",
      "language": "python"
    },
    "language_info": {
      "file_extension": ".py",
      "mimetype": "text/x-python",
      "name": "python",
      "version": "3.13.1"
    }
  },
  "nbformat_minor": 5,
  "nbformat": 4,
  "cells": [
    {
      "id": "185a819f-a637-4e7f-ba87-bdb4086458a1",
      "cell_type": "markdown",
      "source": "Dictionary In Python:\n\nDictionaries are used tp store data values in key:values pairs.\n\nthey are unordered , mutable(changeable) & don't allow duplicate keys.\n\ndict ={\n\n\"name\" : \"moiz\",\n\n\"cgpa\" : 7.8,\n\n\"marks\" : [92, 83, 82],\n\n}\n\ndict[\"name\"],dict[\"cgpa\"],dict[\"marks\"]\n\ndict[\"keys\"] = \"value\" # to assign or add new\n",
      "metadata": {}
    },
    {
      "id": "35e0e03d-bda9-4a98-a50c-aa24661c5f02",
      "cell_type": "code",
      "source": "info ={\n     \"key\" : \"value\",\n     \"name\" : \" moiz\",\n     \"learning\" : \"coding\",\n}\n\nprint(info)\n",
      "metadata": {
        "trusted": true
      },
      "outputs": [
        {
          "name": "stdout",
          "output_type": "stream",
          "text": "{'key': 'value', 'name': ' moiz', 'learning': 'coding'}\n"
        }
      ],
      "execution_count": 1
    },
    {
      "id": "8e7bfe6a-6282-4bf7-9db9-f2d700d642c5",
      "cell_type": "markdown",
      "source": "Nested Dictionaries:\n\nstudent= {\n\n        \"name\" : \"Moiz\",\n        \n        \"score\" : {\n        \n                 \"Chem\" : 98.\n                 \n                 \"pyh\" : 97,\n                 \n                 \"math\" : 95,\n        }\n}\n\nstudent[\"score\"][\"math\"]",
      "metadata": {}
    },
    {
      "id": "9380b31d-8612-4d0a-a20b-eff8bbb46e4b",
      "cell_type": "code",
      "source": "student = {\n    \"name\" : \"Asad\",\n    \"subj\" : {\n        \"phy\" : 97,\n        \"chem\" : 91,\n        \"math\" : 90\n    }\n}\n#nested Dict\nprint(student)",
      "metadata": {
        "trusted": true
      },
      "outputs": [
        {
          "name": "stdout",
          "output_type": "stream",
          "text": "{'name': 'Asad', 'subj': {'phy': 97, 'chem': 91, 'math': 90}}\n"
        }
      ],
      "execution_count": 2
    },
    {
      "id": "ac7ca10c-cd18-4e09-a97d-73c1e710900b",
      "cell_type": "code",
      "source": "student = {\n    \"name\" : \"Asad\",\n    \"subj\" : {\n        \"phy\" : 97,\n        \"chem\" : 91,\n        \"math\" : 90\n    }\n}\n#nested Dict\nprint(student[\"subj\"][\"math\"])",
      "metadata": {
        "trusted": true
      },
      "outputs": [
        {
          "name": "stdout",
          "output_type": "stream",
          "text": "90\n"
        }
      ],
      "execution_count": 3
    },
    {
      "id": "0d177bbc-2edd-444a-91fe-b54061eb4e45",
      "cell_type": "markdown",
      "source": "Dictionary Methods :\n\nmyDict.keys() #returns all keys\n\nmyDict.values() #return all values\n\nmyDict.items() # return all (key, val) pairs as tuples\n\nmyDict.get(\"keys\"\") #return the key according to  value\n\nmyDict.update(newDict) # inserts the specified items to the dictionary.",
      "metadata": {}
    },
    {
      "id": "780dde19-0d76-497d-8d8c-6589106f6d1a",
      "cell_type": "code",
      "source": "student = {\n    \"name\" : \"Asad\",\n    \"subj\" : {\n        \"phy\" : 97,\n        \"chem\" : 91,\n        \"math\" : 90\n    }\n}\n\nprint(student.keys())",
      "metadata": {
        "trusted": true
      },
      "outputs": [
        {
          "name": "stdout",
          "output_type": "stream",
          "text": "dict_keys(['name', 'subj'])\n"
        }
      ],
      "execution_count": 5
    },
    {
      "id": "0e1ddd18-9c7d-4995-a940-d21936766822",
      "cell_type": "code",
      "source": "student = {\n    \"name\" : \"Asad\",\n    \"subj\" : {\n        \"phy\" : 97,\n        \"chem\" : 91,\n        \"math\" : 90\n    }\n}\n\nprint(student.values())",
      "metadata": {
        "trusted": true
      },
      "outputs": [
        {
          "name": "stdout",
          "output_type": "stream",
          "text": "dict_values(['Asad', {'phy': 97, 'chem': 91, 'math': 90}])\n"
        }
      ],
      "execution_count": 6
    },
    {
      "id": "7077cf3a-6416-426a-a0fe-49f1eb7c1950",
      "cell_type": "code",
      "source": "student = {\n    \"name\" : \"Asad\",\n    \"subj\" : {\n        \"phy\" : 97,\n        \"chem\" : 91,\n        \"math\" : 90\n    }\n}\n\nprint(student.items())",
      "metadata": {
        "trusted": true
      },
      "outputs": [
        {
          "name": "stdout",
          "output_type": "stream",
          "text": "dict_items([('name', 'Asad'), ('subj', {'phy': 97, 'chem': 91, 'math': 90})])\n"
        }
      ],
      "execution_count": 7
    },
    {
      "id": "1448814f-e4e5-454d-9927-bd88ad4aeebd",
      "cell_type": "code",
      "source": "student = {\n    \"name\" : \"Asad\",\n    \"subj\" : {\n        \"phy\" : 97,\n        \"chem\" : 91,\n        \"math\" : 90\n    }\n}\n\nprint(student[\"name\"])\n",
      "metadata": {
        "trusted": true
      },
      "outputs": [
        {
          "name": "stdout",
          "output_type": "stream",
          "text": "Asad\n"
        }
      ],
      "execution_count": 12
    },
    {
      "id": "73633d28-4049-4be7-beaf-e88652daa83c",
      "cell_type": "code",
      "source": "student = {\n    \"name\" : \"Asad\",\n    \"subj\" : {\n        \"phy\" : 97,\n        \"chem\" : 91,\n        \"math\" : 90\n    }\n}\n\nstudent.update({\"city\":\"kotli\"})\nprint(student)",
      "metadata": {
        "trusted": true
      },
      "outputs": [
        {
          "name": "stdout",
          "output_type": "stream",
          "text": "{'name': 'Asad', 'subj': {'phy': 97, 'chem': 91, 'math': 90}, 'city': 'kotli'}\n"
        }
      ],
      "execution_count": 13
    },
    {
      "id": "3a9a84d1-fb25-4bfe-a779-1faf240cf4ae",
      "cell_type": "markdown",
      "source": "Set in Python:\n\nSet is the collection of the unordered items.\n\nEach elements in the set must be unique & immutable.\n\nnums = {1, 2, 3, 4}\n\nset2 = {1, 2, 2, 2}\n\n#repeated elements stored only once, so it resolved to {1,2}\n\nnull_set = set() # empty set syntax.",
      "metadata": {}
    },
    {
      "id": "ff059378-1782-4f79-83b4-3a4f8ce4a394",
      "cell_type": "code",
      "source": "collection = {1, 2, 3, 4}\n\nprint(collection)\nprint(type(collection))",
      "metadata": {
        "trusted": true
      },
      "outputs": [
        {
          "name": "stdout",
          "output_type": "stream",
          "text": "{1, 2, 3, 4}\n<class 'set'>\n"
        }
      ],
      "execution_count": 14
    },
    {
      "id": "f55366d1-6620-4f02-ae67-eb3b412aea65",
      "cell_type": "code",
      "source": "collecction = {} #empty \n\nprint(type(collecction))",
      "metadata": {
        "trusted": true
      },
      "outputs": [
        {
          "name": "stdout",
          "output_type": "stream",
          "text": "<class 'dict'>\n"
        }
      ],
      "execution_count": 16
    },
    {
      "id": "ad19a04d-1cbf-454b-8506-75f0d4d4e6b5",
      "cell_type": "markdown",
      "source": "Set Method:\n\nset.add(el) # adds an element.\n\nset.remove(el) #removes the elememnt\n\nset.clear() #empties the set\n\nset.pop() # removes a random value\n\nset.union(set2) # combines both set values & return new\n\nset.intersection(set2) # combines common values & returns new.",
      "metadata": {}
    },
    {
      "id": "4d1a5c7d-bca2-431d-bcaa-0fbde6b08c72",
      "cell_type": "code",
      "source": "collection = set() \ncollection.add(1)\ncollection.add(2)\n\nprint(collection)",
      "metadata": {
        "trusted": true
      },
      "outputs": [
        {
          "name": "stdout",
          "output_type": "stream",
          "text": "{1, 2}\n"
        }
      ],
      "execution_count": 20
    },
    {
      "id": "3a65cebe-bb43-4712-b008-98257d47b541",
      "cell_type": "code",
      "source": "collection = set() \ncollection.add(1)\ncollection.add(2)\n\ncollection.remove(1)\nprint(collection)\n",
      "metadata": {
        "trusted": true
      },
      "outputs": [
        {
          "name": "stdout",
          "output_type": "stream",
          "text": "{2}\n"
        }
      ],
      "execution_count": 21
    },
    {
      "id": "7743d0cc-3bfd-45dc-9605-d2d14a36e435",
      "cell_type": "code",
      "source": "collection = set() \ncollection.add(1)\ncollection.add(2)\n\ncollection.clear()\nprint(len(collection))",
      "metadata": {
        "trusted": true
      },
      "outputs": [
        {
          "name": "stdout",
          "output_type": "stream",
          "text": "0\n"
        }
      ],
      "execution_count": 22
    },
    {
      "id": "b28865ca-f719-4586-b611-cc01a19e73aa",
      "cell_type": "code",
      "source": "collection = {\"Hello\", \"Moiz\", \"world\", \"coding\", \"python\"}\n\nprint(collection.pop())\nprint(collection.pop())\nprint(collection.pop())",
      "metadata": {
        "trusted": true
      },
      "outputs": [
        {
          "name": "stdout",
          "output_type": "stream",
          "text": "Hello\nworld\ncoding\n"
        }
      ],
      "execution_count": 25
    },
    {
      "id": "0daea356-ba99-494d-bbdb-bcfb955d6f3b",
      "cell_type": "code",
      "source": "set1 = {1,2,3}\nset2 = {2, 3, 4}\n\nprint(set1.union(set2))",
      "metadata": {
        "trusted": true
      },
      "outputs": [
        {
          "name": "stdout",
          "output_type": "stream",
          "text": "{1, 2, 3, 4}\n"
        }
      ],
      "execution_count": 26
    },
    {
      "id": "e7d095df-1d00-4c71-864b-cd17a488e454",
      "cell_type": "code",
      "source": "set1 = {1,2,3}\nset2 = {2, 3, 4}\n\nprint(set1.intersection(set2))",
      "metadata": {
        "trusted": true
      },
      "outputs": [
        {
          "name": "stdout",
          "output_type": "stream",
          "text": "{2, 3}\n"
        }
      ],
      "execution_count": 27
    },
    {
      "id": "2f3ca539-a51f-4c55-9b5e-a66444bb9e39",
      "cell_type": "code",
      "source": "",
      "metadata": {
        "trusted": true
      },
      "outputs": [],
      "execution_count": null
    }
  ]
}