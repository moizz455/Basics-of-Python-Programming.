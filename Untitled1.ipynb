{
  "metadata": {
    "kernelspec": {
      "name": "xpython",
      "display_name": "Python 3.13 (XPython)",
      "language": "python"
    },
    "language_info": {
      "file_extension": ".py",
      "mimetype": "text/x-python",
      "name": "python",
      "version": "3.13.1"
    }
  },
  "nbformat_minor": 5,
  "nbformat": 4,
  "cells": [
    {
      "id": "0b0236c9-d84e-4dba-a545-bf90f10b840e",
      "cell_type": "markdown",
      "source": "Python :",
      "metadata": {}
    },
    {
      "id": "e079ceb8-ee93-4a2b-b4bf-a36f2c55c3e6",
      "cell_type": "markdown",
      "source": "What is python ?\n> python is simple and easy .\n> Free and open source .\n> High level language .\n> Developed by Guido Van Rossum .\n> Portable.",
      "metadata": {}
    },
    {
      "id": "bc23b01a-725f-427a-9a7f-9a95215454f2",
      "cell_type": "code",
      "source": "# Our first Program :\nprint('Hello world')\nprint('MoizButt')",
      "metadata": {
        "trusted": true
      },
      "outputs": [
        {
          "name": "stdout",
          "output_type": "stream",
          "text": "Hello world\nMoizButt\n"
        }
      ],
      "execution_count": 3
    },
    {
      "id": "5f2a5473-f130-468c-b853-dda09f2c85cb",
      "cell_type": "markdown",
      "source": "Python Character Set:\n> Letters - A to z , a to z .\n> Digits 0 to 9 .\n> Special symbols  - + * / etc .\n> Whitespaces - blank space, tab , carriage return , newline , formfeed.\n> Other characters - python can process all ASCII and unicode characters as partmof data orliterals. ",
      "metadata": {}
    },
    {
      "id": "3458fc55-9e7e-4a29-915a-db63f346f3ad",
      "cell_type": "code",
      "source": "print('My age is 20')",
      "metadata": {
        "trusted": true
      },
      "outputs": [
        {
          "name": "stdout",
          "output_type": "stream",
          "text": "My age is 20\n"
        }
      ],
      "execution_count": 5
    },
    {
      "id": "2fa3b941-0f24-4c2f-abe7-93a1a1428775",
      "cell_type": "markdown",
      "source": "Variables:\n> A variable is a name given to a memory location in a program.\n\nname = ' Moiz'\nAge= 20\nprice= 29.44",
      "metadata": {}
    },
    {
      "id": "3b9a3c0d-a762-4f56-98d8-39796441ed7b",
      "cell_type": "code",
      "source": "Name = 'MOiz'\nAge = 20\nPrice = 29.44\nprint(Name)\nprint(Age)\nprint(Price)",
      "metadata": {
        "trusted": true
      },
      "outputs": [
        {
          "name": "stdout",
          "output_type": "stream",
          "text": "MOiz\n20\n29.44\n"
        }
      ],
      "execution_count": 10
    },
    {
      "id": "f7b04e5c-ff17-4276-9fcf-02933e1345e5",
      "cell_type": "code",
      "source": "Name = 'MOiz'\nAge = 20\nPrice = 29.44\nprint('My name is :',Name)\nprint('My age is :',Age)\nprint('This is the price:',Price)",
      "metadata": {
        "trusted": true
      },
      "outputs": [
        {
          "name": "stdout",
          "output_type": "stream",
          "text": "My name is : MOiz\nMy age is : 20\nThis is the price: 29.44\n"
        }
      ],
      "execution_count": 11
    },
    {
      "id": "5bd2424c-99d3-459b-8f93-3925e8db1325",
      "cell_type": "markdown",
      "source": "Rules Of Identifiers:\n> Identifiers can be combination of uppercase and lowercase letters, digits of an underscore(_).\nso myVariable, variable_1, variable1 all are valid , 1variable are not valid.\n> An identifier cannot start with digit, So while variable1 is valid python identifiers.\n> We can't use special symbol like !, ~, #, £ etc.\n> Identifiers can be of any length.",
      "metadata": {}
    },
    {
      "id": "d115ef55-ab86-47d2-8232-5fcb38f30658",
      "cell_type": "code",
      "source": "Name = 'MOiz'\nAge = 20\nPrice = 29.44\nprint(type(Name))\nprint(type(Age))\nprint(type(Price))",
      "metadata": {
        "trusted": true
      },
      "outputs": [
        {
          "name": "stdout",
          "output_type": "stream",
          "text": "<class 'str'>\n<class 'int'>\n<class 'float'>\n"
        }
      ],
      "execution_count": 12
    },
    {
      "id": "caf8bf7c-f28c-466c-95c6-636442881475",
      "cell_type": "markdown",
      "source": "Data Types:\n> Integers.\n\n> String.\n\n> Float.\n\n> Boolean.\n\n> None.",
      "metadata": {}
    },
    {
      "id": "7802cd67-c9b2-47ee-a25c-5cb2208d47db",
      "cell_type": "markdown",
      "source": "Keywords.\n> Keywords are reserved words in python.\n\nFor example ;    \n> and                       \n                \n> as                        \n\n> break                   \n\n> class\n\n> pass\n\n> for\n\n> else\n\n> if\n\n",
      "metadata": {}
    },
    {
      "id": "40d69abc-1a36-44ca-ba07-34f1285914cc",
      "cell_type": "code",
      "source": "# print sum \na=2\nb=4\nsum=a+b\nprint(sum)",
      "metadata": {
        "trusted": true
      },
      "outputs": [
        {
          "name": "stdout",
          "output_type": "stream",
          "text": "6\n"
        }
      ],
      "execution_count": 14
    },
    {
      "id": "9769c5b8-01cc-4b20-8740-648cbff3983c",
      "cell_type": "code",
      "source": "# print sub\na=9\nb=5\nsub=a-b\nprint(sub)",
      "metadata": {
        "trusted": true
      },
      "outputs": [
        {
          "name": "stdout",
          "output_type": "stream",
          "text": "4\n"
        }
      ],
      "execution_count": 15
    },
    {
      "id": "d7029bdc-f9c9-4497-8df3-ec433a6cad1a",
      "cell_type": "markdown",
      "source": "Comments in Python :\n>(#) single Line Comment.\n\n> \"\"\" multi Line Comment.",
      "metadata": {}
    },
    {
      "id": "9ddd097a-cab8-476d-bed4-4a5932d23b77",
      "cell_type": "markdown",
      "source": "Types Of Operators:\n> An operators is a symbol that performs a certain operation between operands.\n\n> Arithmetic Operators (-, +, *, % ).\n\n> Relational / Comparison Operators ( ==, !=, >, <, <=,>=])\n\n> Assignment Operators (=, +=, -=, *=, /=, %=, **=)\n\n> Logical Operators (not, and, or)\n",
      "metadata": {}
    },
    {
      "id": "0e57e538-0825-4371-8a19-2cd4a0e2db87",
      "cell_type": "code",
      "source": "#  Arithmetic Operators \na=5\nb=2\n\nprint(a+b)\nprint(a-b)\nprint(a*b)\nprint(a/b)\nprint(a%b)#reminder\nprint(a**b)#a^b",
      "metadata": {
        "trusted": true
      },
      "outputs": [
        {
          "name": "stdout",
          "output_type": "stream",
          "text": "7\n3\n10\n2.5\n1\n25\n"
        }
      ],
      "execution_count": 19
    },
    {
      "id": "df95766d-d53d-4984-8707-5b402e19f38d",
      "cell_type": "code",
      "source": "#Relational / Comparison Operators \na= 30\nb= 50\n\nprint(a==b)\nprint(a!=b)\nprint(a>=b)\nprint(a<=b)",
      "metadata": {
        "trusted": true
      },
      "outputs": [
        {
          "name": "stdout",
          "output_type": "stream",
          "text": "False\nTrue\nFalse\nTrue\n"
        }
      ],
      "execution_count": 22
    },
    {
      "id": "b6ac0b7c-cab4-43a8-a1b8-12d6efb5ddab",
      "cell_type": "code",
      "source": "#Assignment Operators\nnum = 10\nnum =num +10 # sum\nprint(\"num :\", num)\nnum = 10\nnum =num -10 # sub\nprint(\"num :\", num)\nnum = 10\nnum =num *10 # mul\nprint(\"num :\", num)",
      "metadata": {
        "trusted": true
      },
      "outputs": [
        {
          "name": "stdout",
          "output_type": "stream",
          "text": "num : 20\nnum : 0\nnum : 100\n"
        }
      ],
      "execution_count": 25
    },
    {
      "id": "07afdbcf-7e25-4a9a-9cd6-ee8c99305f1a",
      "cell_type": "code",
      "source": "# Logical \na = 12\nb = 19\nprint(not False)\nprint(not True)\n\n# and op\n\nval1=True\nval2=False\nprint(\"ans ope :\", val1 and val2)\n\n# or ope \n\nprint(\" OR ope:\", val1 or val2)",
      "metadata": {
        "trusted": true
      },
      "outputs": [
        {
          "name": "stdout",
          "output_type": "stream",
          "text": "True\nFalse\nans ope : False\n OR ope: True\n"
        }
      ],
      "execution_count": 30
    },
    {
      "id": "1b615552-cf81-414b-975b-1f6f2fd52cf7",
      "cell_type": "markdown",
      "source": "Type Conversion:\n> a, b = 1, 2.0\n\n> sum= a+b\n\nError\n\n> a, b = 1,\"2\"\n\n> sum= a=b",
      "metadata": {}
    },
    {
      "id": "653043f1-2fc5-4e61-bfb8-a66d347f560f",
      "cell_type": "code",
      "source": "# type conversion\na = 3\nb = 6.7\n\nsum= a+b\nprint(sum)",
      "metadata": {
        "trusted": true
      },
      "outputs": [
        {
          "name": "stdout",
          "output_type": "stream",
          "text": "9.7\n"
        }
      ],
      "execution_count": 32
    },
    {
      "id": "e955446f-a307-47cd-bc97-b2208f522fc3",
      "cell_type": "markdown",
      "source": "Type Casting :\n\na, b =1,\"2\"\n\nc = int(b)\n\nsum= a+c",
      "metadata": {}
    },
    {
      "id": "b0e3a06d-c38c-463a-9242-59fcb89484af",
      "cell_type": "code",
      "source": "a = int (\"3\")\nb = 6.7\n\nprint(type(a))\nprint(a+b)\n\n#float\na = float (\"3\")\nb = 6.7\n\nprint(type(a))\nprint(a+b)\n\na=1.23\na= str(a)\n\nprint(type(a))",
      "metadata": {
        "trusted": true
      },
      "outputs": [
        {
          "name": "stdout",
          "output_type": "stream",
          "text": "<class 'int'>\n9.7\n<class 'float'>\n9.7\n<class 'str'>\n"
        }
      ],
      "execution_count": 35
    },
    {
      "id": "eadcbcf6-3704-400c-a383-c548a77c3278",
      "cell_type": "markdown",
      "source": "Input in Python :\n\n> Input() statment is used to accept values ( using keyboard) from user.\n\n> input()\n\n> int(input()) #int\n\n> float(input()) # float",
      "metadata": {}
    },
    {
      "id": "9826aa83-eb8a-44b3-a3b9-86641a48710c",
      "cell_type": "code",
      "source": "name= input(\"enter your Name : \")\nprint(\"Welcome:\", name)",
      "metadata": {
        "trusted": true,
        "scrolled": true
      },
      "outputs": [
        {
          "output_type": "stream",
          "name": "stdin",
          "text": "enter your Name :  MOiz\n"
        },
        {
          "name": "stdout",
          "output_type": "stream",
          "text": "Welcome: MOiz\n"
        }
      ],
      "execution_count": 7
    },
    {
      "id": "77c474c4-e909-4ca9-8ee2-e8d7d74fa0da",
      "cell_type": "code",
      "source": "val = input(\"enter your val : \")\nprint(type(val),val)",
      "metadata": {
        "trusted": true
      },
      "outputs": [
        {
          "output_type": "stream",
          "name": "stdin",
          "text": "enter your val :  99.3\n"
        },
        {
          "name": "stdout",
          "output_type": "stream",
          "text": "<class 'str'> 99.3\n"
        }
      ],
      "execution_count": 6
    },
    {
      "id": "b3cdc2c7-e26f-4b6b-9ee1-73f986ab1b14",
      "cell_type": "code",
      "source": "val = int(input(\"enter your val : \"))\nprint(type(val),val)",
      "metadata": {
        "trusted": true
      },
      "outputs": [
        {
          "output_type": "stream",
          "name": "stdin",
          "text": "enter your val :  23\n"
        },
        {
          "name": "stdout",
          "output_type": "stream",
          "text": "<class 'int'> 23\n"
        }
      ],
      "execution_count": 5
    },
    {
      "id": "f54bd44d-bbf5-4891-87dc-5a08a6685fc9",
      "cell_type": "code",
      "source": "name = input(\"Enter your Name:\")\nage = input(\"Enter your Age:\")\nmarks = input(\"Enter your Marks:\")\n\nprint(\"Welcome\",name)\nprint(\"your age:\",age)\nprint(\"Your Marks:\",marks)",
      "metadata": {
        "trusted": true
      },
      "outputs": [
        {
          "output_type": "stream",
          "name": "stdin",
          "text": "Enter your Name: MOiz\nEnter your Age: 20\nEnter your Marks: 69\n"
        },
        {
          "name": "stdout",
          "output_type": "stream",
          "text": "Welcome MOiz\nyour age: 20\nYour Marks: 69\n"
        }
      ],
      "execution_count": 8
    },
    {
      "id": "d4ee8e39-da52-48c5-93e6-b26207b26f93",
      "cell_type": "code",
      "source": "",
      "metadata": {
        "trusted": true
      },
      "outputs": [],
      "execution_count": null
    }
  ]
}